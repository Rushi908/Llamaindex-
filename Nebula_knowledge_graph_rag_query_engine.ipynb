{
  "cells": [
    {
      "cell_type": "markdown",
      "metadata": {
        "id": "GscNWv6nR1sK"
      },
      "source": [
        "# Knowledge Graph RAG Query Engine\n",
        "\n",
        "\n",
        "## Graph RAG\n",
        "\n",
        "Graph RAG is an Knowledge-enabled RAG approach to retrieve information from Knowledge Graph on given task. Typically, this is to build context based on entities' SubGraph related to the task.\n"
      ]
    },
    {
      "cell_type": "markdown",
      "metadata": {
        "id": "XisNnr1dSBXF"
      },
      "source": [
        "# **Download the Required Dependencies**"
      ]
    },
    {
      "cell_type": "code",
      "execution_count": null,
      "metadata": {
        "id": "AaUI1KkqR1sP"
      },
      "outputs": [],
      "source": [
        "%pip install llama-index-llms-azure-openai\n",
        "%pip install llama-index-graph-stores-nebula\n",
        "%pip install llama-index-llms-openai\n",
        "%pip install llama-index-embeddings-azure-openai\n",
        "%pip install llama-index\n",
        "%pip install llama-index-readers-wikipedia"
      ]
    },
    {
      "cell_type": "code",
      "execution_count": null,
      "metadata": {
        "id": "HwZEEr2cSiZ3"
      },
      "outputs": [],
      "source": [
        "import logging\n",
        "import sys\n",
        "\n",
        "logging.basicConfig(\n",
        "    stream=sys.stdout, level=logging.INFO\n",
        ")  # logging.DEBUG for more verbose output"
      ]
    },
    {
      "cell_type": "markdown",
      "metadata": {
        "id": "iafXk_taSWFB"
      },
      "source": [
        "# **Configure openai Model**"
      ]
    },
    {
      "cell_type": "code",
      "execution_count": null,
      "metadata": {
        "id": "euf5RGw5R1sR"
      },
      "outputs": [],
      "source": [
        "# For OpenAI\n",
        "\n",
        "import os\n",
        "\n",
        "os.environ[\"OPENAI_API_KEY\"] = \"Enter your Api Key\"\n",
        "\n",
        "# define LLM\n",
        "from llama_index.llms.openai import OpenAI\n",
        "from llama_index.core import Settings\n",
        "\n",
        "Settings.llm = OpenAI(temperature=0, model=\"gpt-3.5-turbo\")\n",
        "Settings.chunk_size = 512"
      ]
    },
    {
      "cell_type": "markdown",
      "metadata": {
        "id": "pPxGVkZCR1sS"
      },
      "source": [
        "# **Configure Azure openai model**"
      ]
    },
    {
      "cell_type": "code",
      "execution_count": null,
      "metadata": {
        "id": "izNZG_HYR1sS"
      },
      "outputs": [],
      "source": [
        "from llama_index.llms.azure_openai import AzureOpenAI\n",
        "from llama_index.embeddings.azure_openai import AzureOpenAIEmbedding\n",
        "\n",
        "# For Azure OpenAI\n",
        "api_key = \"Enter your api key\"\n",
        "azure_endpoint = \"https://<your-resource-name>.openai.azure.com/\"\n",
        "api_version = \"2023-07-01-preview\"\n",
        "\n",
        "llm = AzureOpenAI(\n",
        "    model=\"gpt-35-turbo-16k\",\n",
        "    deployment_name=\"my-custom-llm\",\n",
        "    api_key=api_key,\n",
        "    azure_endpoint=azure_endpoint,\n",
        "    api_version=api_version,\n",
        ")\n",
        "\n",
        "# You need to deploy your own embedding model as well as your own chat completion model\n",
        "embed_model = AzureOpenAIEmbedding(\n",
        "    model=\"text-embedding-ada-002\",\n",
        "    deployment_name=\"my-custom-embedding\",\n",
        "    api_key=api_key,\n",
        "    azure_endpoint=azure_endpoint,\n",
        "    api_version=api_version,\n",
        ")"
      ]
    },
    {
      "cell_type": "code",
      "execution_count": null,
      "metadata": {
        "id": "Z7WozfBMR1sT"
      },
      "outputs": [],
      "source": [
        "from llama_index.core import Settings\n",
        "\n",
        "Settings.llm = llm\n",
        "Settings.embed_model = embed_model\n",
        "Settings.chunk_size = 512"
      ]
    },
    {
      "cell_type": "markdown",
      "metadata": {
        "id": "5KrDzgZsVP0x"
      },
      "source": [
        "# **load data from Wikipedia for Guardians of the Galaxy Vol. 3**"
      ]
    },
    {
      "cell_type": "code",
      "execution_count": null,
      "metadata": {
        "id": "xJOwWu-CUz8I"
      },
      "outputs": [],
      "source": [
        "from llama_index.core import download_loader\n",
        "\n",
        "from llama_index.readers.wikipedia import WikipediaReader\n",
        "\n",
        "loader = WikipediaReader()\n",
        "\n",
        "documents = loader.load_data(\n",
        "    pages=[\"Guardians of the Galaxy Vol. 3\"], auto_suggest=False\n",
        ")"
      ]
    },
    {
      "cell_type": "markdown",
      "metadata": {
        "id": "M62hy77JR1sT"
      },
      "source": [
        "# **Configure Nebula Graph for store**"
      ]
    },
    {
      "cell_type": "code",
      "execution_count": null,
      "metadata": {
        "id": "0IL4leZUS7Iu"
      },
      "outputs": [],
      "source": [
        "import os\n",
        "os.environ[\"NEBULA_USER\"] = \"root\"\n",
        "os.environ[\"NEBULA_PASSWORD\"] = \"nebula\"\n",
        "os.environ[\n",
        "    \"NEBULA_ADDRESS\"\n",
        "] = \"127.0.0.1:9669\"  # default port for NebulaGraph\n",
        "\n",
        "space_name = \"llamaindex\"\n",
        "edge_types, rel_prop_names = [\"relationship\"], [\n",
        "    \"relationship\"\n",
        "]  # default, could be omit if create from an empty kg\n",
        "tags = [\"entity\"]  # default, could be omit if create from an empty kg"
      ]
    },
    {
      "cell_type": "markdown",
      "metadata": {
        "id": "UeNZGhPRszMB"
      },
      "source": [
        "# **Store the data**"
      ]
    },
    {
      "cell_type": "code",
      "execution_count": null,
      "metadata": {
        "id": "XY-9Y1tCR1sU"
      },
      "outputs": [],
      "source": [
        "from llama_index.core import StorageContext\n",
        "from llama_index.graph_stores.nebula import NebulaGraphStore\n",
        "\n",
        "graph_store = NebulaGraphStore(\n",
        "    space_name=space_name,\n",
        "    edge_types=edge_types,\n",
        "    rel_prop_names=rel_prop_names,\n",
        "    tags=tags,\n",
        ")\n",
        "storage_context = StorageContext.from_defaults(graph_store=graph_store)"
      ]
    },
    {
      "cell_type": "markdown",
      "metadata": {
        "id": "Uh8xhXDoR1sU"
      },
      "source": [
        "## Perform Graph RAG Query\n",
        "\n",
        "Finally, let's demo how to do Graph RAG towards an existing Knowledge Graph.\n",
        "\n",
        "All we need to do is to use `RetrieverQueryEngine` and configure the retriver of it to be `KnowledgeGraphRAGRetriever`.\n",
        "\n",
        "The `KnowledgeGraphRAGRetriever` performs the following steps:\n",
        "\n",
        "- Search related Entities of the quesion/task\n",
        "- Get SubGraph of those Entities (default 2-depth) from the KG\n",
        "- Build Context based on the SubGraph\n",
        "\n",
        "Please note, the way to Search related Entities could be either Keyword extraction based or Embedding based, which is controlled by argument `retriever_mode` of the `KnowledgeGraphRAGRetriever`, and supported options are:\n",
        "- \"keyword\"\n",
        "- \"embedding\"(not yet implemented)\n",
        "- \"keyword_embedding\"(not yet implemented)\n",
        "\n",
        "Here is the example on how to use `RetrieverQueryEngine` and `KnowledgeGraphRAGRetriever`:"
      ]
    },
    {
      "cell_type": "code",
      "execution_count": null,
      "metadata": {
        "id": "7XFTAtN9R1sV"
      },
      "outputs": [],
      "source": [
        "from llama_index.core.query_engine import RetrieverQueryEngine\n",
        "from llama_index.core.retrievers import KnowledgeGraphRAGRetriever\n",
        "\n",
        "graph_rag_retriever = KnowledgeGraphRAGRetriever(\n",
        "    storage_context=storage_context,\n",
        "    verbose=True,\n",
        ")\n",
        "\n",
        "query_engine = RetrieverQueryEngine.from_args(\n",
        "    graph_rag_retriever,\n",
        ")"
      ]
    },
    {
      "cell_type": "markdown",
      "metadata": {
        "id": "8lPflp5MR1sV"
      },
      "source": [
        "Then we can query it like:"
      ]
    },
    {
      "cell_type": "code",
      "execution_count": null,
      "metadata": {
        "id": "8oCii8gVR1sV",
        "outputId": "2a4062f2-e1d9-40e9-bb67-7234dd60957c"
      },
      "outputs": [
        {
          "name": "stdout",
          "output_type": "stream",
          "text": [
            "\u001b[32;1m\u001b[1;3mEntities processed: ['Star', 'Lord', 'Marvel', 'Quill', 'Galaxy', 'Guardians', 'Guardians of the Galaxy', 'Star-Lord', 'Peter Quill', 'Peter']\n",
            "\u001b[0m\u001b[32;1m\u001b[1;3mEntities processed: ['Star', 'Lord', 'Marvel', 'Quill', 'Galaxy', 'Guardians', 'Guardians of the Galaxy', 'Star-Lord', 'Peter Quill', 'Peter']\n",
            "\u001b[0m\u001b[36;1m\u001b[1;3mGraph RAG context:\n",
            "The following are knowledge sequence in max depth 2 in the form of `subject predicate, object, predicate_next_hop, object_next_hop ...` extracted based on key entities as subject:\n",
            "Guardians, is member of, Guardians, was experimented on, by the High Evolutionary\n",
            "Guardians, is member of, Guardians, considered to tell, origins\n",
            "Guardians, is member of, Guardians, origins, team-up movie\n",
            "Guardians, is member of, Guardians, befriended, his fellow Batch 89 test subjects\n",
            "Guardians, is member of, Guardians, sought to enhance and anthropomorphize animal lifeforms, to create an ideal society\n",
            "Guardians, is member of, Guardians, is creator of, Rocket\n",
            "Guardians, is member of, Guardians, is, Mantis\n",
            "Guardians, is member of, Guardians, is half-sister of, Mantis\n",
            "Guardians, is member of, Guardians, is, Kraglin\n",
            "Guardians, is member of, Guardians, developed psionic abilities, after being abandoned in outer space\n",
            "Guardians, is member of, Guardians, would portray, Cosmo\n",
            "Guardians, is member of, Guardians, recalls, his past\n",
            "Guardians, is member of, Guardians\n",
            "Guardians, is member of, Guardians, focus on, third Guardians-centric film\n",
            "Guardians, is member of, Guardians, is, Rocket\n",
            "Guardians, is member of, Guardians, backstory, flashbacks\n",
            "Guardians, is member of, Guardians, is former second-in-command of, Ravagers\n",
            "Quill, is half-sister of, Mantis, is member of, Guardians\n",
            "Quill, is half-sister of, Mantis, is, Mantis\n",
            "Quill, is in a state of depression, following the appearance of a variant of his dead lover Gamora\n",
            "Quill, is half-sister of, Mantis\n",
            "Peter Quill, is leader of, Guardians of the Galaxy, is sequel to, Guardians of the Galaxy\n",
            "Peter Quill, was raised by, a group of alien thieves and smugglers\n",
            "Peter Quill, would return to the MCU, May 2021\n",
            "Peter Quill, is leader of, Guardians of the Galaxy\n",
            "Peter Quill, is half-human, half-Celestial\n",
            "Peter Quill, was abducted from Earth, as a child\n",
            "Guardians of the Galaxy, is sequel to, Guardians of the Galaxy, released in, Dolby Cinema\n",
            "Guardians of the Galaxy, is sequel to, Guardians of the Galaxy, released on, Disney+\n",
            "Guardians of the Galaxy, is sequel to, Guardians of the Galaxy, is sequel to, Guardians of the Galaxy Vol. 2\n",
            "\u001b[0m"
          ]
        },
        {
          "data": {
            "text/markdown": [
              "<b>\n",
              "\n",
              "Peter Quill is the leader of the Guardians of the Galaxy and the main protagonist of the Guardians of the Galaxy films. He was raised by a group of alien thieves and smugglers, and was abducted from Earth as a child. He is half-human, half-Celestial, and has the ability to wield an energy weapon called the Infinity Stone. He is set to return to the MCU in May 2021.</b>"
            ],
            "text/plain": [
              "<IPython.core.display.Markdown object>"
            ]
          },
          "metadata": {},
          "output_type": "display_data"
        }
      ],
      "source": [
        "from IPython.display import display, Markdown\n",
        "\n",
        "response = query_engine.query(\n",
        "    \"Tell me about Peter Quill?\",\n",
        ")\n",
        "display(Markdown(f\"<b>{response}</b>\"))"
      ]
    },
    {
      "cell_type": "code",
      "execution_count": null,
      "metadata": {
        "id": "-yW15i_uR1sV",
        "outputId": "fca52ee6-f021-48ff-940b-17309cb5dfec"
      },
      "outputs": [
        {
          "name": "stdout",
          "output_type": "stream",
          "text": [
            "INFO:openai:message='OpenAI API response' path=https://api.openai.com/v1/completions processing_ms=611 request_id=1c07a89e18f19ac7bbc508507c2902d9 response_code=200\n",
            "\u001b[32;1m\u001b[1;3mEntities processed: ['Star', 'Lord', 'Marvel', 'Quill', 'Galaxy', 'Guardians', 'Guardians of the Galaxy', 'Star-Lord', 'Peter Quill', 'Peter']\n",
            "\u001b[0mINFO:openai:message='OpenAI API response' path=https://api.openai.com/v1/completions processing_ms=992 request_id=6517cb63da3364acd33e816a9b3ee242 response_code=200\n",
            "\u001b[32;1m\u001b[1;3mEntities processed: ['Star', 'Lord', 'Marvel', 'Quill', 'Galaxy', 'Guardians', 'Guardians of the Galaxy', 'Star-Lord', 'Peter Quill', 'Peter']\n",
            "\u001b[0m\u001b[36;1m\u001b[1;3mGraph RAG context:\n",
            "The following are knowledge sequence in max depth 2 in the form of `subject predicate, object, predicate_next_hop, object_next_hop ...` extracted based on key entities as subject:\n",
            "Guardians, is member of, Guardians, was experimented on, by the High Evolutionary\n",
            "Guardians, is member of, Guardians, considered to tell, origins\n",
            "Guardians, is member of, Guardians, origins, team-up movie\n",
            "Guardians, is member of, Guardians, befriended, his fellow Batch 89 test subjects\n",
            "Guardians, is member of, Guardians, sought to enhance and anthropomorphize animal lifeforms, to create an ideal society\n",
            "Guardians, is member of, Guardians, is creator of, Rocket\n",
            "Guardians, is member of, Guardians, is, Mantis\n",
            "Guardians, is member of, Guardians, is half-sister of, Mantis\n",
            "Guardians, is member of, Guardians, is, Kraglin\n",
            "Guardians, is member of, Guardians, developed psionic abilities, after being abandoned in outer space\n",
            "Guardians, is member of, Guardians, would portray, Cosmo\n",
            "Guardians, is member of, Guardians, recalls, his past\n",
            "Guardians, is member of, Guardians\n",
            "Guardians, is member of, Guardians, focus on, third Guardians-centric film\n",
            "Guardians, is member of, Guardians, is, Rocket\n",
            "Guardians, is member of, Guardians, backstory, flashbacks\n",
            "Guardians, is member of, Guardians, is former second-in-command of, Ravagers\n",
            "Quill, is half-sister of, Mantis, is member of, Guardians\n",
            "Quill, is half-sister of, Mantis, is, Mantis\n",
            "Quill, is in a state of depression, following the appearance of a variant of his dead lover Gamora\n",
            "Quill, is half-sister of, Mantis\n",
            "Peter Quill, is leader of, Guardians of the Galaxy, is sequel to, Guardians of the Galaxy\n",
            "Peter Quill, was raised by, a group of alien thieves and smugglers\n",
            "Peter Quill, would return to the MCU, May 2021\n",
            "Peter Quill, is leader of, Guardians of the Galaxy\n",
            "Peter Quill, is half-human, half-Celestial\n",
            "Peter Quill, was abducted from Earth, as a child\n",
            "Guardians of the Galaxy, is sequel to, Guardians of the Galaxy, released in, Dolby Cinema\n",
            "Guardians of the Galaxy, is sequel to, Guardians of the Galaxy, released on, Disney+\n",
            "Guardians of the Galaxy, is sequel to, Guardians of the Galaxy, is sequel to, Guardians of the Galaxy Vol. 2\n",
            "\u001b[0mINFO:openai:message='OpenAI API response' path=https://api.openai.com/v1/completions processing_ms=2384 request_id=b5a7e601affa751fbc7f957f3359a238 response_code=200\n"
          ]
        },
        {
          "data": {
            "text/markdown": [
              "<b>\n",
              "\n",
              "Peter Quill is the leader of the Guardians of the Galaxy and the main protagonist of the Guardians of the Galaxy films. He was raised by a group of alien thieves and smugglers, and was abducted from Earth as a child. He is half-human, half-Celestial, and has the ability to wield an energy weapon called the Infinity Stone. He is set to return to the MCU in May 2021.</b>"
            ],
            "text/plain": [
              "<IPython.core.display.Markdown object>"
            ]
          },
          "metadata": {},
          "output_type": "display_data"
        }
      ],
      "source": [
        "response = await query_engine.aquery(\n",
        "    \"Tell me about Peter Quill?\",\n",
        ")\n",
        "display(Markdown(f\"<b>{response}</b>\"))"
      ]
    },
    {
      "cell_type": "markdown",
      "metadata": {
        "id": "x8QCOoZXR1sW"
      },
      "source": [
        "## Include nl2graphquery as Context in Graph RAG\n",
        "\n",
        "The nature of (Sub)Graph RAG and nl2graphquery are different. No one is better than the other but just when one fits more in certain type of questions. To understand more on how they differ from the other, see [this demo](https://www.siwei.io/en/demos/graph-rag/) comparing the two.\n",
        "\n",
        "<video width=\"938\" height=\"800\"\n",
        "       src=\"https://github.com/siwei-io/talks/assets/1651790/05d01e53-d819-4f43-9bf1-75549f7f2be9\"  \n",
        "       controls>\n",
        "</video>\n",
        "\n",
        "While in real world cases, we may not always know which approach works better, thus, one way to best leverage KG in RAG are fetching both retrieval results as context and letting LLM + Prompt generate answer with them all being involved.\n",
        "\n",
        "So, optionally, we could choose to synthesise answer from two piece of retrieved context from KG:\n",
        "- Graph RAG, the default retrieval method, which extracts subgraph that's related to the key entities in the question.\n",
        "- NL2GraphQuery, generate Knowledge Graph Query based on query and the Schema of the Knowledge Graph, which is by default switched off.\n",
        "\n",
        "We could set `with_nl2graphquery=True` to enable it like:"
      ]
    },
    {
      "cell_type": "code",
      "execution_count": null,
      "metadata": {
        "id": "PtaqvJEVR1sW"
      },
      "outputs": [],
      "source": [
        "graph_rag_retriever_with_nl2graphquery = KnowledgeGraphRAGRetriever(\n",
        "    storage_context=storage_context,\n",
        "    verbose=True,\n",
        "    with_nl2graphquery=True,\n",
        ")\n",
        "\n",
        "query_engine_with_nl2graphquery = RetrieverQueryEngine.from_args(\n",
        "    graph_rag_retriever_with_nl2graphquery,\n",
        ")"
      ]
    },
    {
      "cell_type": "code",
      "execution_count": null,
      "metadata": {
        "id": "MtTZl7kmR1sW",
        "outputId": "5e7ed1cb-75c6-42be-b94f-84dee5ed7628"
      },
      "outputs": [
        {
          "name": "stdout",
          "output_type": "stream",
          "text": [
            "\u001b[33;1m\u001b[1;3mGraph Store Query:\n",
            "```\n",
            "MATCH (p:`entity`)-[:`relationship`]->(m:`entity`) WHERE p.`entity`.`name` == 'Peter Quill'\n",
            "RETURN m.`entity`.`name`;\n",
            "```\n",
            "\u001b[0m\u001b[33;1m\u001b[1;3mGraph Store Response:\n",
            "{'m.entity.name': ['May 2021', 'as a child', 'Guardians of the Galaxy', 'a group of alien thieves and smugglers', 'half-Celestial']}\n",
            "\u001b[0m\u001b[32;1m\u001b[1;3mEntities processed: ['Star', 'Lord', 'Marvel', 'Quill', 'Galaxy', 'Guardians', 'Guardians of the Galaxy', 'Star-Lord', 'Peter Quill', 'Peter']\n",
            "\u001b[0m\u001b[32;1m\u001b[1;3mEntities processed: ['Star', 'Lord', 'Marvel', 'Quill', 'Galaxy', 'Guardians', 'Guardians of the Galaxy', 'Star-Lord', 'Peter Quill', 'Peter']\n",
            "\u001b[0m\u001b[36;1m\u001b[1;3mGraph RAG context:\n",
            "The following are knowledge sequence in max depth 2 in the form of `subject predicate, object, predicate_next_hop, object_next_hop ...` extracted based on key entities as subject:\n",
            "Guardians, is member of, Guardians, was experimented on, by the High Evolutionary\n",
            "Guardians, is member of, Guardians, considered to tell, origins\n",
            "Guardians, is member of, Guardians, origins, team-up movie\n",
            "Guardians, is member of, Guardians, befriended, his fellow Batch 89 test subjects\n",
            "Guardians, is member of, Guardians, sought to enhance and anthropomorphize animal lifeforms, to create an ideal society\n",
            "Guardians, is member of, Guardians, is creator of, Rocket\n",
            "Guardians, is member of, Guardians, is, Mantis\n",
            "Guardians, is member of, Guardians, is half-sister of, Mantis\n",
            "Guardians, is member of, Guardians, is, Kraglin\n",
            "Guardians, is member of, Guardians, developed psionic abilities, after being abandoned in outer space\n",
            "Guardians, is member of, Guardians, would portray, Cosmo\n",
            "Guardians, is member of, Guardians, recalls, his past\n",
            "Guardians, is member of, Guardians\n",
            "Guardians, is member of, Guardians, focus on, third Guardians-centric film\n",
            "Guardians, is member of, Guardians, is, Rocket\n",
            "Guardians, is member of, Guardians, backstory, flashbacks\n",
            "Guardians, is member of, Guardians, is former second-in-command of, Ravagers\n",
            "Quill, is half-sister of, Mantis, is member of, Guardians\n",
            "Quill, is half-sister of, Mantis, is, Mantis\n",
            "Quill, is in a state of depression, following the appearance of a variant of his dead lover Gamora\n",
            "Quill, is half-sister of, Mantis\n",
            "Peter Quill, is leader of, Guardians of the Galaxy, is sequel to, Guardians of the Galaxy\n",
            "Peter Quill, was raised by, a group of alien thieves and smugglers\n",
            "Peter Quill, would return to the MCU, May 2021\n",
            "Peter Quill, is leader of, Guardians of the Galaxy\n",
            "Peter Quill, is half-human, half-Celestial\n",
            "Peter Quill, was abducted from Earth, as a child\n",
            "Guardians of the Galaxy, is sequel to, Guardians of the Galaxy, released in, Dolby Cinema\n",
            "Guardians of the Galaxy, is sequel to, Guardians of the Galaxy, released on, Disney+\n",
            "Guardians of the Galaxy, is sequel to, Guardians of the Galaxy, is sequel to, Guardians of the Galaxy Vol. 2\n",
            "\u001b[0m"
          ]
        },
        {
          "data": {
            "text/markdown": [
              "<b>\n",
              "\n",
              "Peter Quill is the leader of the Guardians of the Galaxy and was abducted from Earth as a child. He is half-human and half-Celestial, and was raised by a group of alien thieves and smugglers. He would return to the MCU in May 2021.</b>"
            ],
            "text/plain": [
              "<IPython.core.display.Markdown object>"
            ]
          },
          "metadata": {},
          "output_type": "display_data"
        }
      ],
      "source": [
        "response = query_engine_with_nl2graphquery.query(\n",
        "    \"What do you know about Peter Quill?\",\n",
        ")\n",
        "display(Markdown(f\"<b>{response}</b>\"))"
      ]
    }
  ],
  "metadata": {
    "colab": {
      "provenance": []
    },
    "kernelspec": {
      "display_name": "Python 3 (ipykernel)",
      "language": "python",
      "name": "python3"
    },
    "language_info": {
      "codemirror_mode": {
        "name": "ipython",
        "version": 3
      },
      "file_extension": ".py",
      "mimetype": "text/x-python",
      "name": "python",
      "nbconvert_exporter": "python",
      "pygments_lexer": "ipython3"
    }
  },
  "nbformat": 4,
  "nbformat_minor": 0
}
